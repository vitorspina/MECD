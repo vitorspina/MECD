{
 "cells": [
  {
   "cell_type": "markdown",
   "id": "8cf4339b",
   "metadata": {},
   "source": [
    "Ex 7.24. Openintro Statistics"
   ]
  },
  {
   "cell_type": "code",
   "execution_count": 16,
   "id": "b50b946f",
   "metadata": {},
   "outputs": [
    {
     "data": {
      "text/plain": [
       "0.13"
      ]
     },
     "execution_count": 16,
     "metadata": {},
     "output_type": "execute_result"
    }
   ],
   "source": [
    "import scipy.stats as ss\n",
    "t = 1.54\n",
    "df = 49\n",
    "#using the T distribution, P(-t<T<t) = t.cdf(t,df), since we want the p value, it will be 2 times that\n",
    "p_value = 2*(1-ss.t.cdf(t,df))\n",
    "round(p_value,3)"
   ]
  },
  {
   "cell_type": "code",
   "execution_count": null,
   "id": "d6bbb104",
   "metadata": {},
   "outputs": [],
   "source": []
  }
 ],
 "metadata": {
  "kernelspec": {
   "display_name": "Python 3 (ipykernel)",
   "language": "python",
   "name": "python3"
  },
  "language_info": {
   "codemirror_mode": {
    "name": "ipython",
    "version": 3
   },
   "file_extension": ".py",
   "mimetype": "text/x-python",
   "name": "python",
   "nbconvert_exporter": "python",
   "pygments_lexer": "ipython3",
   "version": "3.10.9"
  }
 },
 "nbformat": 4,
 "nbformat_minor": 5
}
