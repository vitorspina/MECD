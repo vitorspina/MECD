{
 "cells": [
  {
   "cell_type": "markdown",
   "id": "7faa56d8",
   "metadata": {},
   "source": [
    "OpenIntro Statistics"
   ]
  },
  {
   "cell_type": "markdown",
   "id": "9fe249f5",
   "metadata": {},
   "source": [
    "Ex. 2.9"
   ]
  },
  {
   "cell_type": "code",
   "execution_count": 3,
   "id": "a6d5809e",
   "metadata": {},
   "outputs": [],
   "source": [
    "def avg(nums:list[int]) -> int:\n",
    "    avge = sum(nums)/len(nums)\n",
    "    return avge\n",
    "def var(nums:list[int]) -> int:\n",
    "    soma = 0\n",
    "    media = avg(nums)\n",
    "    for i in nums:\n",
    "        result = (i - media)\n",
    "        result = result ** 2\n",
    "        soma +=result\n",
    "    vari = soma/(len(nums)-1)\n",
    "    return vari"
   ]
  },
  {
   "cell_type": "code",
   "execution_count": 4,
   "id": "936419ae",
   "metadata": {},
   "outputs": [
    {
     "name": "stdout",
     "output_type": "stream",
     "text": [
      "8.0\n",
      "8.777777777777779\n",
      "13.0\n",
      "27.194444444444443\n"
     ]
    }
   ],
   "source": [
    "x = [3, 5, 5, 5, 8, 11, 11, 11, 13]\n",
    "y = [3, 5, 5, 5, 8, 11, 11, 11, 20]\n",
    "\n",
    "print(avg(x))\n",
    "print(avg(y))\n",
    "print(var(x))\n",
    "print(var(y))"
   ]
  },
  {
   "cell_type": "code",
   "execution_count": 5,
   "id": "655530ae",
   "metadata": {},
   "outputs": [
    {
     "name": "stdout",
     "output_type": "stream",
     "text": [
      "8.0\n",
      "8.777777777777779\n"
     ]
    }
   ],
   "source": [
    "import numpy as np\n",
    "print(np.average(x))\n",
    "print(np.average(y))\n",
    "\n"
   ]
  },
  {
   "cell_type": "code",
   "execution_count": null,
   "id": "4672e3d7",
   "metadata": {},
   "outputs": [],
   "source": []
  }
 ],
 "metadata": {
  "kernelspec": {
   "display_name": "Python 3 (ipykernel)",
   "language": "python",
   "name": "python3"
  },
  "language_info": {
   "codemirror_mode": {
    "name": "ipython",
    "version": 3
   },
   "file_extension": ".py",
   "mimetype": "text/x-python",
   "name": "python",
   "nbconvert_exporter": "python",
   "pygments_lexer": "ipython3",
   "version": "3.10.9"
  }
 },
 "nbformat": 4,
 "nbformat_minor": 5
}
